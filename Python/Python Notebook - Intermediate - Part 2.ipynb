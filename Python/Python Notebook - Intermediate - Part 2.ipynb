{
 "cells": [
  {
   "cell_type": "markdown",
   "metadata": {
    "ExecuteTime": {
     "end_time": "2018-11-08T10:01:01.715711Z",
     "start_time": "2018-11-08T10:01:01.709071Z"
    }
   },
   "source": [
    "<h1 style=\"font-size: 20pt\">Python Notebook | Intermediate | Part 2</h1><br/>\n",
    "\n",
    "<b> Author: </b> Tamoghna Saha<br/>\n",
    "\n",
    "![Python](Photos/python-intermediate.png)"
   ]
  },
  {
   "cell_type": "markdown",
   "metadata": {},
   "source": [
    "# Table of content\n",
    "\n",
    "* [OOP features in Python](#oop)\n",
    "    * [Class](#cls)\n",
    "    * [Inheritance](#inher)\n",
    "* [Exception Handling](#handling)\n",
    "* [Lambda](#lambda)\n",
    "* [First Class Function](#fcf)\n",
    "    * [Map, Filter & Reduce](#map)\n",
    "    * [Decorator](#dec)\n",
    "* [Iterable, Iterator and Generator](#iter-gen)\n",
    "* [Answers](#ans)"
   ]
  },
  {
   "cell_type": "markdown",
   "metadata": {},
   "source": [
    "# OOP features in Python\n",
    "\n",
    "Python is an _object-oriented programming_ (OOP) language and objects are created using __class__ which is actually the focal point of OOP, along with __inheritance__ as one of the most concept ever developed.\n",
    "\n",
    "## Class <a name=\"class\"></a>\n",
    "\n",
    "The class describes an object's blueprint, description or metadata. Multiple object can be instantiated using the _same class_.\n",
    "\n",
    "In layman's term, class is a digital representation of the real world entity which contains __properties__ and __behaviors__. As an analogy, the constructors or initializers are the properties and methods are the behaviors.\n",
    "\n",
    "Classes are created using the keyword __class__ with class name in _Pascal-Case_ format and an indented block, which contains constructor and class _methods_.\n",
    "\n",
    "Let's take a look at an example."
   ]
  },
  {
   "cell_type": "code",
   "execution_count": 1,
   "metadata": {},
   "outputs": [
    {
     "name": "stdout",
     "output_type": "stream",
     "text": [
      "Pikachu\n",
      "PIIKKAAAA!\n",
      "legs: 2\n"
     ]
    }
   ],
   "source": [
    "class Pet:\n",
    "    def __init__(self, g = \"dog\", n = \"Arcanine\", o = \"Tim\"):\n",
    "        self.genre = g \n",
    "        self.name = n\n",
    "        self.owner = o\n",
    "        \n",
    "    def voice(self, sound): #another method added to the class Pet\n",
    "        return sound\n",
    "        \n",
    "    def body(self, leg_count=4):\n",
    "        print(\"legs: {}\".format(leg_count))\n",
    "        \n",
    "pokemon = Pet(\"mouse\",\"Pikachu\",\"Ash\")\n",
    "print(pokemon.name)\n",
    "print(pokemon.voice(\"PIIKKAAAA!\"))\n",
    "pokemon.body(2)"
   ]
  },
  {
   "cell_type": "markdown",
   "metadata": {},
   "source": [
    "The **__ init__** method is the most important method in a class which is called when an instance (object) of the class is created. It stores the properties of the class (and typically known as _constructors_ in OOP). __All methods must have self as their first parameter__.\n",
    "\n",
    "Within the method definition, __self__ refers to the object itself calling the method. From the above example, we see that\n",
    "\n",
    "```\n",
    "pokemon = Pet(\"mouse\",\"Pikachu\",\"Ash\")\n",
    "print(pokemon.name)\n",
    ">>> Pikachu\n",
    "```\n",
    "\n",
    "* When we create the pokemon object from the class Pet, we are passing _genre, name and owner_ as _\"mouse\", \"Pikachu\", \"Ash\"_ and the object (pokemon) will take the place of self.\n",
    "* The attributes are accessed using the __dot__ operator.\n",
    "* So __pokemon is the object__, \"_Pikachu_\" is the value of the __name__ attribute of this object. \n",
    "\n",
    "Hence, we can access the attributes in a class using this way: __object.attributes__.\n",
    "\n",
    "Classes can have other methods defined to add functionality to them. These methods are accessed using the same dot syntax as attributes.\n",
    "\n",
    "Trying to access an attribute of an instance that isn't defined causes an __AttributeError__.\n",
    "\n",
    "## Inheritance\n",
    "\n",
    "If the class is a __specialized version of another class__, then it is called inheritance. When one class inherits from another, it __automatically__ takes on all the attributes and methods of the parent class. The child class is free to introduce and override attributes and methods of the parent class.\n",
    "\n",
    "To inherit from another class, _include the name of the parent class in **parentheses**_ when defining the new class."
   ]
  },
  {
   "cell_type": "code",
   "execution_count": 2,
   "metadata": {},
   "outputs": [],
   "source": [
    "class Car():\n",
    "    \"\"\"A simple class to model a car.\"\"\"\n",
    "    def __init__(self, make, model, year):\n",
    "        self.make = make\n",
    "        self.model = model\n",
    "        self.year = year\n",
    "        # Fuel capacity and level in gallons\n",
    "        self.fuel_capacity = 15\n",
    "        self.fuel_level = 0\n",
    "    \n",
    "    def fill_tank(self, fuel_level):\n",
    "        \"\"\"Fill gas tank to capacity.\"\"\"\n",
    "        if self.fuel_level == self.fuel_capacity:\n",
    "            print(\"Fuel tank is full!\")\n",
    "        else:\n",
    "            fill_prop = (self.fuel_level/self.fuel_capacity)*100\n",
    "            print(\"Fuel tank is {}% filled\".format(fill_prop))\n",
    "    \n",
    "    def drive(self, mode=\"MANUAL\"):\n",
    "        \"\"\"Simulate driving.\"\"\"\n",
    "        print(\"MODE: {} | Car in motion!\".format(self.mode))\n",
    "        \n",
    "class ElectricCar(Car):\n",
    "    \"\"\"A simple class of an electric car.\"\"\"\n",
    "    def __init__(self, make, model, year):\n",
    "        super().__init__(make, model, year)\n",
    "        # Attributes specific to electric cars.\n",
    "        # Battery capacity in kWh.\n",
    "        self.battery_size = 70\n",
    "        # Charge level in %.\n",
    "        self.charge_level = 0\n",
    "        \n",
    "    def charge(self):\n",
    "        \"\"\"Fully charge the vehicle.\"\"\"\n",
    "        self.charge_level = 100\n",
    "        print(\"The vehicle is fully charged.\")"
   ]
  },
  {
   "cell_type": "markdown",
   "metadata": {},
   "source": [
    "# Exception Handling <a name=\"handling\"></a>\n",
    "\n",
    "## Exception\n",
    "\n",
    "__Exception__ occur when something goes wrong due to incorrect code syntax or logic or input. When an exception occurs, the program immediately stops and doesn't executes any lines further.\n",
    "\n",
    "_Different exceptions are raised for different reasons._ Some common exceptions are listed below:\n",
    "* __ImportError__: an import fails\n",
    "* __IndexError__: a list is indexed with an out-of-range number\n",
    "* __NameError__: an unknown variable is used\n",
    "* __SyntaxError__: the code can't be parsed or processed properly\n",
    "* __TypeError__: a function is called on a value of an inappropriate type\n",
    "* __ValueError__: a function is called on a value of the correct type, but with an inappropriate value\n",
    "\n",
    "Third-party libraries and modules define their own exceptions. Learn more about built-in exceptions [here](https://docs.python.org/3.7/library/exceptions.html)\n",
    "\n",
    "Here are some examples of different built-in exceptions.\n",
    "\n",
    "```\n",
    ">>> list=[1,2,3] \n",
    ">>> print(list[3])\n",
    "Traceback (most recent call last): File \"<stdin>\", line 1, in <module> \n",
    "IndexError: list index out of range \n",
    "\n",
    ">>> printf(a)\n",
    "File \"<stdin>\", line 1 \n",
    "printf a \n",
    "    ^ \n",
    "SyntaxError: invalid syntax\n",
    "\n",
    ">>> print(a)\n",
    "Traceback (most recent call last): File \"<stdin>\", line 1, in <module> \n",
    "NameError: name 'a' is not defined \n",
    "\n",
    ">>> import tk \n",
    "Traceback (most recent call last): File \"<stdin>\", line 1, in <module> \n",
    "ImportError: No module named tk \n",
    "\n",
    ">>> a=2+\"hello\"\n",
    "Traceback (most recent call last): File \"<stdin>\", line 1, in <module> \n",
    "TypeError: unsupported operand type(s) for +: 'int' and 'str' \n",
    "\n",
    ">>> list.remove(0) \n",
    "Traceback (most recent call last): File \"<stdin>\", line 1, in <module> \n",
    "ValueError: list.remove(x): x not in list\n",
    "```"
   ]
  },
  {
   "cell_type": "markdown",
   "metadata": {},
   "source": [
    "## Exception Handling\n",
    "\n",
    "To handle exceptions and call code when an exception occurs, we have to use a __try/except__ statement. \n",
    "\n",
    "### try-except\n",
    "\n",
    "The __try__ block contains code that might throw an exception. If that exception occurs, the code in the try block stops executing, and the code in the __except__ block is run. If no error occurs, the code in the except block doesn't run.\n",
    "\n",
    "A try statement can have multiple different except blocks to handle different exceptions. _Multiple exceptions can also be put into a single except block using __parentheses__,_ to have the except block handle all of them.\n",
    "\n",
    "An except statement without any exception specified will catch all errors. __However, this kind of coding should be avoided.__ If you do this, you are going against the zen of Python.\n",
    "\n",
    "Exception handling is particularly useful when\n",
    "* dealing with user input\n",
    "* sending stuff over network or saving large amounts of data, since issues happening with hardware like losing power or signal problems can happen"
   ]
  },
  {
   "cell_type": "code",
   "execution_count": 3,
   "metadata": {},
   "outputs": [
    {
     "name": "stdout",
     "output_type": "stream",
     "text": [
      "ERROR!\n"
     ]
    }
   ],
   "source": [
    "try:\n",
    "    variable = 10\n",
    "    print(variable + \"hello\")\n",
    "    num1 = 7\n",
    "    num2 = 0\n",
    "    print(num1 / num2)\n",
    "    print(\"Done calculation\")\n",
    "except ZeroDivisionError:\n",
    "    print(\"An error occurred due to zero division\")\n",
    "except (ValueError, TypeError):\n",
    "    print(\"ERROR!\")"
   ]
  },
  {
   "cell_type": "markdown",
   "metadata": {},
   "source": [
    "### else and finally\n",
    "\n",
    "Here using the else statement, you can instruct a program to execute a certain block of code __only in the absence of exceptions__.\n",
    "\n",
    "To ensure some code runs no matter what errors occur, you can use a __finally__ statement. The finally statement is placed at the bottom of a try/except statement and else statement, if any.\n",
    "\n",
    "![try_except_else_finally](Photos/try_except_else_finally.png)"
   ]
  },
  {
   "cell_type": "code",
   "execution_count": 4,
   "metadata": {},
   "outputs": [
    {
     "name": "stdout",
     "output_type": "stream",
     "text": [
      "division by zero\n",
      "Getting printed irrespective of any exceptions.\n"
     ]
    }
   ],
   "source": [
    "try:\n",
    "    num_1 = 2\n",
    "    num_2 = 0\n",
    "    print(num_1/num_2)\n",
    "except ZeroDivisionError as error:\n",
    "    print(error)\n",
    "else:\n",
    "    try:\n",
    "        with open('joker.txt') as file:\n",
    "            read_data = file.readline()\n",
    "            print(read_data)\n",
    "    except FileNotFoundError as fnf_error:\n",
    "        print(fnf_error)\n",
    "finally:\n",
    "    print('Getting printed irrespective of any exceptions.')"
   ]
  },
  {
   "cell_type": "code",
   "execution_count": 5,
   "metadata": {},
   "outputs": [
    {
     "name": "stdout",
     "output_type": "stream",
     "text": [
      "1\n",
      "This is executed last!\n"
     ]
    },
    {
     "ename": "NameError",
     "evalue": "name 'error' is not defined",
     "output_type": "error",
     "traceback": [
      "\u001b[0;31m---------------------------------------------------------------------------\u001b[0m",
      "\u001b[0;31mZeroDivisionError\u001b[0m                         Traceback (most recent call last)",
      "\u001b[0;32m<ipython-input-5-a50b4a0c143d>\u001b[0m in \u001b[0;36m<module>\u001b[0;34m\u001b[0m\n\u001b[1;32m      4\u001b[0m     \u001b[0mprint\u001b[0m\u001b[0;34m(\u001b[0m\u001b[0;36m1\u001b[0m\u001b[0;34m)\u001b[0m\u001b[0;34m\u001b[0m\u001b[0;34m\u001b[0m\u001b[0m\n\u001b[0;32m----> 5\u001b[0;31m     \u001b[0mprint\u001b[0m\u001b[0;34m(\u001b[0m\u001b[0;36m10\u001b[0m \u001b[0;34m/\u001b[0m \u001b[0;36m0\u001b[0m\u001b[0;34m)\u001b[0m\u001b[0;34m\u001b[0m\u001b[0;34m\u001b[0m\u001b[0m\n\u001b[0m\u001b[1;32m      6\u001b[0m \u001b[0;32mexcept\u001b[0m \u001b[0mZeroDivisionError\u001b[0m\u001b[0;34m:\u001b[0m\u001b[0;34m\u001b[0m\u001b[0;34m\u001b[0m\u001b[0m\n",
      "\u001b[0;31mZeroDivisionError\u001b[0m: division by zero",
      "\nDuring handling of the above exception, another exception occurred:\n",
      "\u001b[0;31mNameError\u001b[0m                                 Traceback (most recent call last)",
      "\u001b[0;32m<ipython-input-5-a50b4a0c143d>\u001b[0m in \u001b[0;36m<module>\u001b[0;34m\u001b[0m\n\u001b[1;32m      5\u001b[0m     \u001b[0mprint\u001b[0m\u001b[0;34m(\u001b[0m\u001b[0;36m10\u001b[0m \u001b[0;34m/\u001b[0m \u001b[0;36m0\u001b[0m\u001b[0;34m)\u001b[0m\u001b[0;34m\u001b[0m\u001b[0;34m\u001b[0m\u001b[0m\n\u001b[1;32m      6\u001b[0m \u001b[0;32mexcept\u001b[0m \u001b[0mZeroDivisionError\u001b[0m\u001b[0;34m:\u001b[0m\u001b[0;34m\u001b[0m\u001b[0;34m\u001b[0m\u001b[0m\n\u001b[0;32m----> 7\u001b[0;31m     \u001b[0mprint\u001b[0m\u001b[0;34m(\u001b[0m\u001b[0merror\u001b[0m\u001b[0;34m)\u001b[0m\u001b[0;34m\u001b[0m\u001b[0;34m\u001b[0m\u001b[0m\n\u001b[0m\u001b[1;32m      8\u001b[0m \u001b[0;32mfinally\u001b[0m\u001b[0;34m:\u001b[0m\u001b[0;34m\u001b[0m\u001b[0;34m\u001b[0m\u001b[0m\n\u001b[1;32m      9\u001b[0m     \u001b[0mprint\u001b[0m\u001b[0;34m(\u001b[0m\u001b[0;34m\"This is executed last!\"\u001b[0m\u001b[0;34m)\u001b[0m\u001b[0;34m\u001b[0m\u001b[0;34m\u001b[0m\u001b[0m\n",
      "\u001b[0;31mNameError\u001b[0m: name 'error' is not defined"
     ]
    }
   ],
   "source": [
    "# Let's try this one\n",
    "\n",
    "try:\n",
    "    print(1)\n",
    "    print(10 / 0)\n",
    "except ZeroDivisionError:\n",
    "    print(error)\n",
    "finally:\n",
    "    print(\"This is executed last!\")"
   ]
  },
  {
   "cell_type": "markdown",
   "metadata": {},
   "source": [
    "### Assesrtion\n",
    "\n",
    "An __assertion is a sanity-check__ where an expression is tested, and if the result comes up false, an exception is raised. When it encounters an assert statement, Python evaluates the accompanying expression, which is expected to be true. If the expression is false, Python raises an __AssertionError__ exception.\n",
    "\n",
    "AssertionError exceptions can be caught and handled like any other exception using the try-except statement, but if not handled, this type of exception will terminate the program.\n",
    "\n",
    "__But what makes assertion different from try/except?__ [Answer](#ans1)"
   ]
  },
  {
   "cell_type": "code",
   "execution_count": 6,
   "metadata": {},
   "outputs": [
    {
     "name": "stdout",
     "output_type": "stream",
     "text": [
      "32.0\n"
     ]
    },
    {
     "ename": "AssertionError",
     "evalue": "Colder than absolute zero? Go back to school. -_-",
     "output_type": "error",
     "traceback": [
      "\u001b[0;31m---------------------------------------------------------------------------\u001b[0m",
      "\u001b[0;31mAssertionError\u001b[0m                            Traceback (most recent call last)",
      "\u001b[0;32m<ipython-input-6-832b1596a334>\u001b[0m in \u001b[0;36m<module>\u001b[0;34m\u001b[0m\n\u001b[1;32m      4\u001b[0m \u001b[0;34m\u001b[0m\u001b[0m\n\u001b[1;32m      5\u001b[0m \u001b[0mprint\u001b[0m\u001b[0;34m(\u001b[0m\u001b[0mKelvinToFahrenheit\u001b[0m\u001b[0;34m(\u001b[0m\u001b[0;36m273\u001b[0m\u001b[0;34m)\u001b[0m\u001b[0;34m)\u001b[0m\u001b[0;34m\u001b[0m\u001b[0;34m\u001b[0m\u001b[0m\n\u001b[0;32m----> 6\u001b[0;31m \u001b[0mprint\u001b[0m\u001b[0;34m(\u001b[0m\u001b[0mKelvinToFahrenheit\u001b[0m\u001b[0;34m(\u001b[0m\u001b[0;34m-\u001b[0m\u001b[0;36m5\u001b[0m\u001b[0;34m)\u001b[0m\u001b[0;34m)\u001b[0m\u001b[0;34m\u001b[0m\u001b[0;34m\u001b[0m\u001b[0m\n\u001b[0m\u001b[1;32m      7\u001b[0m \u001b[0mprint\u001b[0m\u001b[0;34m(\u001b[0m\u001b[0mKelvinToFahrenheit\u001b[0m\u001b[0;34m(\u001b[0m\u001b[0;36m373\u001b[0m\u001b[0;34m)\u001b[0m\u001b[0;34m)\u001b[0m\u001b[0;34m\u001b[0m\u001b[0;34m\u001b[0m\u001b[0m\n",
      "\u001b[0;32m<ipython-input-6-832b1596a334>\u001b[0m in \u001b[0;36mKelvinToFahrenheit\u001b[0;34m(temp)\u001b[0m\n\u001b[1;32m      1\u001b[0m \u001b[0;32mdef\u001b[0m \u001b[0mKelvinToFahrenheit\u001b[0m\u001b[0;34m(\u001b[0m\u001b[0mtemp\u001b[0m\u001b[0;34m)\u001b[0m\u001b[0;34m:\u001b[0m\u001b[0;34m\u001b[0m\u001b[0;34m\u001b[0m\u001b[0m\n\u001b[0;32m----> 2\u001b[0;31m     \u001b[0;32massert\u001b[0m \u001b[0;34m(\u001b[0m\u001b[0mtemp\u001b[0m \u001b[0;34m>=\u001b[0m \u001b[0;36m0\u001b[0m\u001b[0;34m)\u001b[0m\u001b[0;34m,\u001b[0m\u001b[0;34m\"Colder than absolute zero? Go back to school. -_-\"\u001b[0m\u001b[0;34m\u001b[0m\u001b[0;34m\u001b[0m\u001b[0m\n\u001b[0m\u001b[1;32m      3\u001b[0m     \u001b[0;32mreturn\u001b[0m \u001b[0;34m(\u001b[0m\u001b[0;34m(\u001b[0m\u001b[0mtemp\u001b[0m \u001b[0;34m-\u001b[0m \u001b[0;36m273\u001b[0m\u001b[0;34m)\u001b[0m\u001b[0;34m*\u001b[0m\u001b[0;36m1.8\u001b[0m\u001b[0;34m)\u001b[0m \u001b[0;34m+\u001b[0m \u001b[0;36m32\u001b[0m\u001b[0;34m\u001b[0m\u001b[0;34m\u001b[0m\u001b[0m\n\u001b[1;32m      4\u001b[0m \u001b[0;34m\u001b[0m\u001b[0m\n\u001b[1;32m      5\u001b[0m \u001b[0mprint\u001b[0m\u001b[0;34m(\u001b[0m\u001b[0mKelvinToFahrenheit\u001b[0m\u001b[0;34m(\u001b[0m\u001b[0;36m273\u001b[0m\u001b[0;34m)\u001b[0m\u001b[0;34m)\u001b[0m\u001b[0;34m\u001b[0m\u001b[0;34m\u001b[0m\u001b[0m\n",
      "\u001b[0;31mAssertionError\u001b[0m: Colder than absolute zero? Go back to school. -_-"
     ]
    }
   ],
   "source": [
    "def KelvinToFahrenheit(temp):\n",
    "    assert (temp >= 0),\"Colder than absolute zero? Go back to school. -_-\"\n",
    "    return ((temp - 273)*1.8) + 32\n",
    "\n",
    "print(KelvinToFahrenheit(273))\n",
    "print(KelvinToFahrenheit(-5))\n",
    "print(KelvinToFahrenheit(373))"
   ]
  },
  {
   "cell_type": "markdown",
   "metadata": {},
   "source": [
    "# Lambda <a name=\"lambda\"></a>\n",
    "\n",
    "In Python, __anonymous function__ means a function __without a name__, whereas we use _def_ keyword to create normal functions. The __lambda__ function is used for creating _small, one-time and anonymous_ function objects in Python. The lambda operator can have __any number of arguments__, but it can have __only one expression__. The lambda functions can be assigned to variables, and used like normal functions.\n",
    "\n",
    "Use lambda functions when an anonymous function is required for a short period of time."
   ]
  },
  {
   "cell_type": "code",
   "execution_count": 7,
   "metadata": {
    "ExecuteTime": {
     "end_time": "2019-02-05T10:46:25.966501Z",
     "start_time": "2019-02-05T10:46:25.959504Z"
    }
   },
   "outputs": [
    {
     "name": "stdout",
     "output_type": "stream",
     "text": [
      "The result for named function: 30\n",
      "The result for anonymous function: 30\n"
     ]
    }
   ],
   "source": [
    "#named function\n",
    "def polynomial(x,y):\n",
    "    '''\n",
    "    Function to perform a polynomial calculation having a single variable x\n",
    "    '''\n",
    "    return x**2 + 5*y + 4\n",
    "\n",
    "print(\"The result for named function: {}\".format(polynomial(-4,2)))\n",
    "\n",
    "#========== OR ============\n",
    "\n",
    "#lambda\n",
    "poly = lambda x,y: x**2 + 5*y + 4\n",
    "print(\"The result for anonymous function: {}\".format(poly(-4,2)))"
   ]
  },
  {
   "cell_type": "markdown",
   "metadata": {},
   "source": [
    "# First-Class Functions\n",
    "\n",
    "In OOP, there is a concept of __first-class function__ which are basically functions treated as __first-class citizen (/object)__, which in turn is an entity that can be\n",
    "* dynamically created, destroyed\n",
    "* can be stored in a variable\n",
    "* passed to a function as argument\n",
    "* returned as a value from a function\n",
    "\n",
    "Let's see an example below for all of these properties:"
   ]
  },
  {
   "cell_type": "code",
   "execution_count": 8,
   "metadata": {},
   "outputs": [
    {
     "name": "stdout",
     "output_type": "stream",
     "text": [
      "Let's go, PYKACHU\n",
      "====================\n",
      "I choose you, 'char'mander\n",
      "====================\n",
      "In the battle, PYkachu won against 'char'mander\n"
     ]
    }
   ],
   "source": [
    "# functions can be assigned to a variable\n",
    "\n",
    "def my_pymon(text):\n",
    "    return \"Let's go, {}\".format(text.upper())\n",
    "\n",
    "i_choose_you = my_pymon\n",
    "print(i_choose_you('PYkachu'))\n",
    "print(\"=\"*20)\n",
    "\n",
    "# functions can be passed as argument to another function\n",
    "\n",
    "def your_pymon(text):\n",
    "    return f\"{text}\"\n",
    "\n",
    "def trainer_select(func):\n",
    "    print(func(\"I choose you, 'char'mander\"))\n",
    "\n",
    "trainer_select(your_pymon)\n",
    "print(\"=\"*20)\n",
    "\n",
    "# function returned as a value from another function\n",
    "\n",
    "def battle_began_with(mons):\n",
    "    def who_won(someone):\n",
    "        return f\"In the battle, {someone} won against {mons}\"\n",
    "    return who_won\n",
    "\n",
    "battle = battle_began_with(\"'char'mander\")\n",
    "battle_result = battle(\"PYkachu\")\n",
    "print(battle_result)"
   ]
  },
  {
   "cell_type": "markdown",
   "metadata": {},
   "source": [
    "__When we put the pair of parentheses after the function name in main function of the code, only then the function gets executed__. If we don’t put parentheses after it, then it can be passed around __as a variable__ and can be assigned to other variables without executing it.\n",
    "\n",
    "Let's see another example with all of these features together."
   ]
  },
  {
   "cell_type": "code",
   "execution_count": 9,
   "metadata": {},
   "outputs": [
    {
     "name": "stdout",
     "output_type": "stream",
     "text": [
      "60\n"
     ]
    }
   ],
   "source": [
    "def operation(x, y):\n",
    "    return x+y\n",
    "\n",
    "def another_operation(func, x, y):\n",
    "    return func(func(x,y), func(x,y))\n",
    "\n",
    "add_func = operation\n",
    "print(another_operation(add_func, 5, 25))"
   ]
  },
  {
   "cell_type": "markdown",
   "metadata": {},
   "source": [
    "Here, `add_func` is a variable storing the function `operation` but __not executing__ it since there is no parenthesis. The first parameter of `another_operation` is a function, where we are passing the function `operation` as argument. Also, the functionality of `operation` is being 'returned' in the `return` statement of `another_operation` function.\n",
    "\n",
    "## Map, Filter & Reduce <a name=\"map\"></a>\n",
    "\n",
    "A function accepting other function as argument or returns function as a result is called __higher-order function__. The built-in functions __map__, __filter__ and __reduce__ are very useful higher-order functions that operate on iterable objects (such as list, dict).\n",
    "\n",
    "The function __map__ takes a function and an iterable as _arguments_, and returns a _new iterable_ with the function applied to each argument.\n",
    "\n",
    "The function __filter__ filters an iterable by removing items that don't match a __predicate (a function that returns ONLY Boolean True)__.\n",
    "\n",
    "The function __reduce__ applies a rolling computation to sequential pairs of values in a iterable i.e., wanted to compute the product of a list items, sum of tuple items.\n",
    "\n",
    "__NOTE__: Both in map and filter, the result has to be explicitly converted to a list or tuple if you want to print it. Python 2 returns a list by default, but this was changed in Python 3 which returns map or filter object."
   ]
  },
  {
   "cell_type": "code",
   "execution_count": 10,
   "metadata": {},
   "outputs": [
    {
     "name": "stdout",
     "output_type": "stream",
     "text": [
      "My MAP FUNCTION result: [1, 2, 9, 64, 625]\n",
      "In-built MAP FUNCTION result: [1, 2, 9, 64, 625]\n"
     ]
    }
   ],
   "source": [
    "# map\n",
    "num_var = [1, 2, 3, 4, 5]\n",
    "\n",
    "def pow_func(par):\n",
    "    return pow(par, par-1)\n",
    "\n",
    "def my_map_func(the_func, the_iterable):\n",
    "    res = []\n",
    "    for i in the_iterable:\n",
    "        res.append(the_func(i))\n",
    "    return res\n",
    "\n",
    "map_result_1 = my_map_func(pow_func, num_var)\n",
    "print(\"My MAP FUNCTION result: {}\".format(map_result_1))\n",
    "\n",
    "\n",
    "map_result_2 = list(map(lambda x: pow(x,x-1), num_var))\n",
    "print(\"In-built MAP FUNCTION result: {}\".format(map_result_2))"
   ]
  },
  {
   "cell_type": "code",
   "execution_count": 11,
   "metadata": {
    "ExecuteTime": {
     "end_time": "2019-02-05T10:48:31.066666Z",
     "start_time": "2019-02-05T10:48:31.060105Z"
    }
   },
   "outputs": [
    {
     "name": "stdout",
     "output_type": "stream",
     "text": [
      "My FILTER FUNCTION result: (2, 4)\n",
      "In-built FILTER FUNCTION result: (2, 4)\n"
     ]
    }
   ],
   "source": [
    "# filter\n",
    "def cond_func(par):\n",
    "    return par%2\n",
    "\n",
    "def my_filter_func(the_func, the_iterable):\n",
    "    res = []\n",
    "    for i in the_iterable:\n",
    "        if the_func(i)==0:\n",
    "            res.append(i)\n",
    "        else:\n",
    "            pass\n",
    "    return tuple(res)\n",
    "\n",
    "filter_result_1 = my_filter_func(cond_func, num_var)\n",
    "print(\"My FILTER FUNCTION result: {}\".format(filter_result_1))\n",
    "\n",
    "\n",
    "filter_result_2 = tuple(filter(lambda x: x%2==0, num_var))\n",
    "print(\"In-built FILTER FUNCTION result: {}\".format(filter_result_2))"
   ]
  },
  {
   "cell_type": "code",
   "execution_count": 12,
   "metadata": {
    "ExecuteTime": {
     "end_time": "2019-02-05T10:48:31.066666Z",
     "start_time": "2019-02-05T10:48:31.060105Z"
    }
   },
   "outputs": [
    {
     "name": "stdout",
     "output_type": "stream",
     "text": [
      "120\n"
     ]
    }
   ],
   "source": [
    "# reduce\n",
    "from functools import reduce\n",
    "\n",
    "reduce_result = reduce((lambda x,y: x*y), num_var)\n",
    "print(reduce_result)"
   ]
  },
  {
   "cell_type": "markdown",
   "metadata": {},
   "source": [
    "__Small task__\n",
    "\n",
    "* Do the same thing shown above in filter code using list comprehension.\n",
    "* Solve this:\n",
    "\n",
    "```\n",
    "res = tuple(map(lambda x: x%2==0,num_var))\n",
    "```"
   ]
  },
  {
   "cell_type": "code",
   "execution_count": 13,
   "metadata": {
    "ExecuteTime": {
     "end_time": "2019-02-05T10:52:31.159358Z",
     "start_time": "2019-02-05T10:52:31.150919Z"
    },
    "hide_input": false
   },
   "outputs": [
    {
     "name": "stdout",
     "output_type": "stream",
     "text": [
      "(2, 4)\n",
      "(False, True, False, True, False)\n"
     ]
    }
   ],
   "source": [
    "#Answer\n",
    "num_var = [1, 2, 3, 4, 5]\n",
    "filter_result = [i for i in num_var if i%2==0]\n",
    "print(tuple(filter_result))\n",
    "\n",
    "res = tuple(map(lambda x: x%2==0,num_var))\n",
    "print(res)"
   ]
  },
  {
   "cell_type": "code",
   "execution_count": 14,
   "metadata": {},
   "outputs": [
    {
     "name": "stdout",
     "output_type": "stream",
     "text": [
      "(0, 2, 0, 4, 0)\n"
     ]
    }
   ],
   "source": [
    "res = tuple(map(lambda x: x if x%2==0 else 0, num_var))\n",
    "print(res)"
   ]
  },
  {
   "cell_type": "code",
   "execution_count": 15,
   "metadata": {
    "ExecuteTime": {
     "end_time": "2019-02-01T07:10:34.238982Z",
     "start_time": "2019-02-01T07:10:34.181683Z"
    }
   },
   "outputs": [
    {
     "name": "stdout",
     "output_type": "stream",
     "text": [
      "(0, 0, 3, 4, 5)\n",
      "[3, 4, 5]\n"
     ]
    }
   ],
   "source": [
    "# what do you think is the output?\n",
    "mylist = [1,2,3,4,5]\n",
    "\n",
    "def my_func(x):\n",
    "    if x>2:\n",
    "        return x\n",
    "    else:\n",
    "        return 0\n",
    "\n",
    "print(tuple(map(lambda x: x if x>2 else 0, mylist)))\n",
    "print(list(filter(lambda x: x if x>2 else 0, mylist)))"
   ]
  },
  {
   "cell_type": "markdown",
   "metadata": {},
   "source": [
    "# Decorator <a name=\"dec\"></a>\n",
    "\n",
    "__Decorator__ are functions which modify the functionality of another function."
   ]
  },
  {
   "cell_type": "code",
   "execution_count": 16,
   "metadata": {
    "ExecuteTime": {
     "end_time": "2018-12-26T04:33:30.444335Z",
     "start_time": "2018-12-26T04:33:30.439391Z"
    }
   },
   "outputs": [
    {
     "name": "stdout",
     "output_type": "stream",
     "text": [
      "I am the function which needs some decoration!\n",
      "None\n",
      "==================================================\n",
      "I am doing some boring work before executing a_func()\n",
      "I am the function which needs some decoration!\n",
      "I am doing some boring work after executing a_func()\n",
      "None\n"
     ]
    }
   ],
   "source": [
    "def my_decor(a_func):\n",
    "\n",
    "    def wrapper_func():\n",
    "        print(\"I am doing some boring work before executing a_func()\")\n",
    "        a_func()\n",
    "        print(\"I am doing some boring work after executing a_func()\")\n",
    "\n",
    "    return wrapper_func\n",
    "\n",
    "def a_function_requiring_decor():\n",
    "    print(\"I am the function which needs some decoration!\")\n",
    "    \n",
    "print(a_function_requiring_decor())\n",
    "\n",
    "print(\"=\"*50)\n",
    "\n",
    "a_function_requiring_decor = my_decor(a_function_requiring_decor) #the so-called decorator is happening here\n",
    "print(a_function_requiring_decor())"
   ]
  },
  {
   "cell_type": "markdown",
   "metadata": {},
   "source": [
    "The variable __a_function_requiring_decor__ is pointing to the __wrapper_func__ inner function. We are __returning wrapper_func as a function__ when we call __my_decor(a_function_requiring_decor)__. So, __decorator wraps a function, modifying its behavior__.\n",
    "\n",
    "Another way to write these decorators is using __\"pie\" syntax, using @ symbol__."
   ]
  },
  {
   "cell_type": "code",
   "execution_count": 17,
   "metadata": {
    "ExecuteTime": {
     "end_time": "2018-12-26T04:07:29.752370Z",
     "start_time": "2018-12-26T04:07:29.746977Z"
    }
   },
   "outputs": [
    {
     "name": "stdout",
     "output_type": "stream",
     "text": [
      "Take the marker and write something on the board.\n",
      "SOMETHING!\n",
      "Well done!\n"
     ]
    }
   ],
   "source": [
    "def my_decorator(func):\n",
    "    def wrapper():\n",
    "        print(\"Take the marker and write something on the board.\")\n",
    "        func()\n",
    "        print(\"Well done!\")\n",
    "    return wrapper\n",
    "\n",
    "@my_decorator\n",
    "def tricky():\n",
    "    print(\"SOMETHING!\")\n",
    "    \n",
    "tricky()"
   ]
  },
  {
   "cell_type": "markdown",
   "metadata": {},
   "source": [
    "# Iterable, Iterator and Generator <a name=\"iter-gen\"></a>\n",
    "\n",
    "## Iterable and Iterator\n",
    "\n",
    "Iteration -> Repetition of a process.\n",
    "\n",
    "__Iterable__ is a type of object which would __generate an Iterator__ when passed to in-built method __iter()__.\n",
    "\n",
    "__Iterator__ is an object which is used to iterate over an _iterable object_ using __next__() method, which returns the next item of the _iterable object_.  Any object that has a __next__() method is therefore an iterator.\n",
    "\n",
    "__NOTE__: List, Tuple, Set, Frozenset, Dictionary are in-built __iterable objects__. They are __iterable containers__ from which you can get an __iterator__.\n",
    "\n",
    "This is what happens.\n",
    "![iterable-vs-iterator](./Photos/iterable-vs-iterator.png)"
   ]
  },
  {
   "cell_type": "code",
   "execution_count": 18,
   "metadata": {
    "ExecuteTime": {
     "end_time": "2019-02-01T07:21:57.377445Z",
     "start_time": "2019-02-01T07:21:57.368279Z"
    }
   },
   "outputs": [
    {
     "name": "stdout",
     "output_type": "stream",
     "text": [
      "<class 'list_iterator'>\n",
      "apple\n",
      "banana\n",
      "cherry\n"
     ]
    },
    {
     "ename": "StopIteration",
     "evalue": "",
     "output_type": "error",
     "traceback": [
      "\u001b[0;31m---------------------------------------------------------------------------\u001b[0m",
      "\u001b[0;31mStopIteration\u001b[0m                             Traceback (most recent call last)",
      "\u001b[0;32m<ipython-input-18-f204a460846d>\u001b[0m in \u001b[0;36m<module>\u001b[0;34m\u001b[0m\n\u001b[1;32m      7\u001b[0m \u001b[0mprint\u001b[0m\u001b[0;34m(\u001b[0m\u001b[0mnext\u001b[0m\u001b[0;34m(\u001b[0m\u001b[0miterated_tuple\u001b[0m\u001b[0;34m)\u001b[0m\u001b[0;34m)\u001b[0m\u001b[0;34m\u001b[0m\u001b[0;34m\u001b[0m\u001b[0m\n\u001b[1;32m      8\u001b[0m \u001b[0mprint\u001b[0m\u001b[0;34m(\u001b[0m\u001b[0mnext\u001b[0m\u001b[0;34m(\u001b[0m\u001b[0miterated_tuple\u001b[0m\u001b[0;34m)\u001b[0m\u001b[0;34m)\u001b[0m\u001b[0;34m\u001b[0m\u001b[0;34m\u001b[0m\u001b[0m\n\u001b[0;32m----> 9\u001b[0;31m \u001b[0mprint\u001b[0m\u001b[0;34m(\u001b[0m\u001b[0mnext\u001b[0m\u001b[0;34m(\u001b[0m\u001b[0miterated_tuple\u001b[0m\u001b[0;34m)\u001b[0m\u001b[0;34m)\u001b[0m\u001b[0;34m\u001b[0m\u001b[0;34m\u001b[0m\u001b[0m\n\u001b[0m",
      "\u001b[0;31mStopIteration\u001b[0m: "
     ]
    }
   ],
   "source": [
    "## Let's see an example\n",
    "my_tuple = [\"apple\", \"banana\", \"cherry\"]\n",
    "iterated_tuple = iter(my_tuple)\n",
    "\n",
    "print(type(iterated_tuple))\n",
    "print(next(iterated_tuple))\n",
    "print(next(iterated_tuple))\n",
    "print(next(iterated_tuple))\n",
    "print(next(iterated_tuple))"
   ]
  },
  {
   "cell_type": "code",
   "execution_count": 19,
   "metadata": {
    "ExecuteTime": {
     "end_time": "2019-02-01T07:22:24.663966Z",
     "start_time": "2019-02-01T07:22:24.607905Z"
    }
   },
   "outputs": [
    {
     "name": "stdout",
     "output_type": "stream",
     "text": [
      "apple\n",
      "banana\n",
      "cherry\n"
     ]
    }
   ],
   "source": [
    "## same thing can be written using for loop\n",
    "my_tuple = (\"apple\", \"banana\", \"cherry\")\n",
    "\n",
    "for i in my_tuple:\n",
    "    print(i)"
   ]
  },
  {
   "cell_type": "markdown",
   "metadata": {},
   "source": [
    "**How for loop actually works?**\n",
    "\n",
    "The for loop can iterate over any iterable. \n",
    "\n",
    "```\n",
    "for element in iterable:\n",
    "    # do something with element\n",
    "```\n",
    "\n",
    "is actually implemented as\n",
    "\n",
    "```\n",
    "# create an iterator object from that iterable\n",
    "iter_obj = iter(iterable)\n",
    "\n",
    "# infinite loop\n",
    "while True:\n",
    "    try:\n",
    "        # get the next item\n",
    "        element = next(iter_obj)\n",
    "        # do something with element\n",
    "    except StopIteration:\n",
    "        # if StopIteration is raised, break from loop\n",
    "        break\n",
    "```\n",
    "\n",
    "* The for loop creates an iterator object internally, __iter_obj__ by calling _iter()_ on the iterable.\n",
    "* Inside the __while loop__, it calls _next()_ to get the next element and executes further\n",
    "* After all the items exhaust, __StopIteration__ exception is raised which is internally caught and the loop ends.\n",
    "\n",
    "To get a better sense of the internals of an iterator, let's build an iterator producing the __Fibonacci numbers__."
   ]
  },
  {
   "cell_type": "code",
   "execution_count": 20,
   "metadata": {
    "ExecuteTime": {
     "end_time": "2019-02-05T11:00:09.216806Z",
     "start_time": "2019-02-05T11:00:09.209189Z"
    }
   },
   "outputs": [
    {
     "name": "stdout",
     "output_type": "stream",
     "text": [
      "[1, 1, 2, 3, 5, 8, 13, 21, 34, 55]\n"
     ]
    }
   ],
   "source": [
    "from itertools import islice\n",
    "\n",
    "class fib:\n",
    "     def __init__(self):\n",
    "        self.prev = 0\n",
    "        self.curr = 1\n",
    " \n",
    "     def __iter__(self):\n",
    "        return self\n",
    " \n",
    "     def __next__(self):\n",
    "        value = self.curr\n",
    "        self.curr += self.prev\n",
    "        self.prev = value\n",
    "        return value\n",
    "\n",
    "f = fib()\n",
    "print(list(islice(f, 0, 10)))"
   ]
  },
  {
   "cell_type": "markdown",
   "metadata": {},
   "source": [
    "## Generator\n",
    "\n",
    "A lot of overhead in building an iterator:\n",
    "* implement a class with iter() and next() methods\n",
    "* raise StopIteration when there was no values to be returned\n",
    "* makes the code lengthy\n",
    "\n",
    "Python Generators are a simple way of creating iterators. All the above mentioned overhead are automatically handled by generators in Python.\n",
    "\n",
    "__Generator__ is a block of code, same as defining a function, having a __yield__ statement instead of a __return__ statement. If a function contains **at least one yield** statement (it may contain other yield or return statements), it becomes a generator!\n",
    "\n",
    "The yield statement suspends function’s execution and sends a value back to caller, but retains enough capability to enable function to resume where it is left off. When resumed, the function continues execution immediately after the last yield run. This allows its code to produce a series of values over time, rather than computing them at once and sending them back like a list. __We should use yield when we want to iterate over a sequence, but don’t want to store the entire sequence in memory__.\n",
    "\n",
    "This is how the above Fibonacci number code looks like using generator."
   ]
  },
  {
   "cell_type": "code",
   "execution_count": 21,
   "metadata": {
    "ExecuteTime": {
     "end_time": "2019-02-05T11:00:13.433144Z",
     "start_time": "2019-02-05T11:00:13.426344Z"
    }
   },
   "outputs": [
    {
     "name": "stdout",
     "output_type": "stream",
     "text": [
      "1\n",
      "1\n",
      "2\n",
      "3\n",
      "5\n",
      "8\n",
      "13\n",
      "21\n",
      "34\n",
      "[1, 1, 2, 3, 5, 8, 13, 21, 34, 55]\n"
     ]
    }
   ],
   "source": [
    "def fib():\n",
    "    prev, curr = 0, 1\n",
    "    while True:\n",
    "        yield curr\n",
    "        print(curr)\n",
    "        prev, curr = curr, prev + curr\n",
    "\n",
    "f = fib()\n",
    "print(list(islice(f, 0, 10)))"
   ]
  },
  {
   "cell_type": "code",
   "execution_count": null,
   "metadata": {},
   "outputs": [],
   "source": []
  },
  {
   "cell_type": "markdown",
   "metadata": {},
   "source": [
    "### Let's see what happened.\n",
    "\n",
    "Take note that __fib__ is defined as a normal Python function, not as class. However, there's __no return keyword__ inside the function body. __The return value of the function will be a generator__.\n",
    "\n",
    "1. Now when __f = fib()__ is called, the generator is instantiated and returned. __No code will be executed__ at this point.To be explicit: the line prev, curr = 0, 1 is not executed yet.\n",
    "\n",
    "2. Then, this generator instance is wrapped in an islice(). This is itself also an iterator. Again, no code executed.\n",
    "\n",
    "3. Now, this iterator is wrapped in a __list()__, which will take the argument and build a list from it. To do so, it will start calling next() on the islice() instance, which in turn will start calling next() on our f instance.\n",
    "\n",
    "4. On the first call, the code __prev, curr = 0, 1__ gets executed, then the __while True__ loop is entered, and then it encounters the __yield curr__ statement. It will produce the value that's currently in the _curr_ variable and become idle again. This value is passed to the _islice()_ wrapper, which will produce the value (1 in this case) and list can add the value to the list.\n",
    "\n",
    "5. Then, list asks islice() for the next value, which will ask f for the next value, which will _unpause_ f from its previous state, resuming with the statement __prev, curr = curr, prev + curr__. \n",
    "\n",
    "6. Then it re-enters the next iteration of the __while True__ loop, and hits the __yield curr__ statement, returning the next value of curr.\n",
    "\n",
    "7. This happens until the output list is 10 elements long. When list() asks islice() for the 11th value, islice() will raise a __StopIteration__ exception, indicating that the end has been reached, and list will return the result: a list of 10 items, containing the first 10 Fibonacci numbers.\n",
    "\n",
    "There are two types of generators in Python: __generator functions__ and __generator expressions__. A generator function is any function in which the keyword __yield__ appears in its body. We just saw an example of that. Generator expression is equivalent to list comprehension.\n",
    "\n",
    "### To avoid any confusion between iterable, iterator, generator, generator expression, a {list, set, dict} comprehension, check out this diagram.\n",
    "\n",
    "![relationship](./Photos/relationships.png)"
   ]
  },
  {
   "cell_type": "markdown",
   "metadata": {},
   "source": [
    "There are some iterator functions available which can be implemented on iterable. You can check out these 2 links from GeekForGeeks. Pretty well written.\n",
    "\n",
    "* [Iterator Functions | Set 1](https://www.geeksforgeeks.org/iterator-functions-in-python-set-1/)\n",
    "* [Iterator Functions | Set 2](https://www.geeksforgeeks.org/iterator-functions-python-set-2islice-starmap-tee/)"
   ]
  },
  {
   "cell_type": "markdown",
   "metadata": {},
   "source": [
    "# Answers\n",
    "\n",
    "## Q1 <a name=\"ans1\"></a>\n",
    "\n",
    "An assertion would stop the program from running (because you should fix that error or the program is useless), but an exception would let the program continue running (if you use else or finally). In other words, __exceptions address the robustness of your application__ while __assertions address its correctness__. \n",
    "\n",
    "Assertions should be used to check something that __should never happen__ while an exception should be used to check something that __might happen__ (something in which you don't have control like user input). \n",
    "\n",
    "__NOTE__: The rule is that use __assertions__ when you are trying to __catch your own errors__ (functions or data that are internal to your system), and __exceptions__ when trying to __catch other people's errors__.\n",
    "\n",
    "Use assertions\n",
    "* when checking pre-conditions, post-conditions in code\n",
    "* to provide feedback to yourself or your developer team, making it a great feature for debugging purpose\n",
    "* when checking for things that are very unlikely to happen otherwise it means that there is a serious ﬂaw in your application\n",
    "* to state things that you (supposedly) know to be true."
   ]
  }
 ],
 "metadata": {
  "kernelspec": {
   "display_name": "Python 3",
   "language": "python",
   "name": "python3"
  },
  "language_info": {
   "codemirror_mode": {
    "name": "ipython",
    "version": 3
   },
   "file_extension": ".py",
   "mimetype": "text/x-python",
   "name": "python",
   "nbconvert_exporter": "python",
   "pygments_lexer": "ipython3",
   "version": "3.6.8"
  }
 },
 "nbformat": 4,
 "nbformat_minor": 2
}