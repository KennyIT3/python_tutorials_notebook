{
 "cells": [
  {
   "cell_type": "markdown",
   "metadata": {
    "ExecuteTime": {
     "end_time": "2018-09-28T13:31:50.617249Z",
     "start_time": "2018-09-28T13:31:50.611556Z"
    }
   },
   "source": [
    "<h1 style=\"font-size: 20pt\">Python Notebook | Beginner</h1><br/>\n",
    "\n",
    "<b> Author: </b> Tamoghna Saha<br/> \n",
    "\n",
    "![Python](Photos/python_beginner.png)"
   ]
  },
  {
   "cell_type": "markdown",
   "metadata": {},
   "source": [
    "# Table of Content:\n",
    "* [Know about Python](#intro)\n",
    "* [Numerical and Boolean Operations](#num_bool)\n",
    "* [Variable and Object](#var_obj)\n",
    "* [Data Type and Type Conversion](#data_type_conversion)\n",
    "* [Importing Python Modules and standard libraries](#modules)\n",
    "* [Python Built-in Functions and keywords](#builtins)\n",
    "* [String operations and formatting](#string_ops)\n",
    "* [Useful Pythonic Functions](#pythonic_func)\n",
    "* [User Input Function](#user_in)\n",
    "* [User-Defined Function](#udf)\n",
    "* [Scope of a Variable](#scope)\n",
    "* [Answers](#answers)\n",
    "* [Additional Read](#additional_read)"
   ]
  },
  {
   "cell_type": "markdown",
   "metadata": {},
   "source": [
    "## What is Python? <a name = \"intro\"></a>\n",
    "\n",
    "![what-is-python](Photos/PYTHON-DEFINITION.png)\n",
    "\n",
    "It is a general-purpose, high-level, interpreted, dynamic scripting language.\n",
    "\n",
    "* **General-Purpose** -> designed to be used for writing software in the widest variety of application domains\n",
    "* **High-level** -> designed to be more or less independent of a particular type of computer, human-readable friendly\n",
    "* **Interpreted** -> designed to execute instructions of a program directly, without previously compiling a program into machine-language instructions\n",
    "* **Scripting** -> languages which are interpreted rather than compiled\n",
    "\n",
    "### Q1. But, what is the difference between an interpreter and a compiler? [Answer](#answer1)\n",
    "<a name=\"back1\"></a>"
   ]
  },
  {
   "cell_type": "markdown",
   "metadata": {},
   "source": [
    "## Currently, there are two versions of Python\n",
    "\n",
    "<img src=\"Photos/Python-logo.png\" width=\"640\">"
   ]
  },
  {
   "cell_type": "markdown",
   "metadata": {},
   "source": [
    "## Why do we need Python?\n",
    "\n",
    "![why_python](Photos/Why_Python.jpg)\n",
    "\n",
    "* **Simple syntax, readable, reusable and maintainable code**\n",
    "* **Multiple Programming Paradigms** such as Object-oriented, structured, functional Paradigms and feature of automatic memory management\n",
    "* **Compatible** with Major Platforms and Systems, many **open-source framework available** which boosts developer's productivity\n",
    "* **Robust Standard Library** and supporting wide range of external libraries\n",
    "* Easier to perform coding and testing simultaneously by adopting **test driven development (TDD)** approach"
   ]
  },
  {
   "cell_type": "markdown",
   "metadata": {},
   "source": [
    "## That's okay. But where do I use it?\n",
    "\n",
    "![application](Photos/application.jpg)\n",
    "\n",
    "* **Desktop-based Applications**\n",
    "    + Image, Video, Audio Processing (using modules like **OpenCV** and **PyAudio** or **librosa**)\n",
    "    + Graphic Design Applications (used to create **Inkscape, GIMP, Blender, 3ds Max** softwares)\n",
    "    + Games (**PySoy** -> 3D game engine, **PyGame** -> library for game development)\n",
    "* **Scientific and Computational Applications**\n",
    "    + Machine Learning (Regression, Decision Tree, Random Forest, Deep Learning) using libraries such as **NumPy**, **SciPy**, **TensorFlow**, **Keras**, **PyTorch**\n",
    "* **Operating Systems**\n",
    "    + **Ubuntu’s Ubiquity Installer, Fedora's Anaconda Installer** are written in Python\n",
    "* **Language Development**\n",
    "    + Boo, Apple's Swift, Cobra\n",
    "* **Web Development**\n",
    "    + Framework such as **Django, Pyramid**\n",
    "    + Micro-Framework such as **Flask, Bottle**\n",
    "* **Internet Protocol**\n",
    "    + HTML, XML\n",
    "    + JSON\n",
    "    + Requests\n",
    "    + BeautifulSoup\n",
    "* **Prototyping**"
   ]
  },
  {
   "cell_type": "markdown",
   "metadata": {},
   "source": [
    "## Who uses Python anyway?\n",
    "\n",
    "![python_use](Photos/who_uses_python.png)"
   ]
  },
  {
   "cell_type": "markdown",
   "metadata": {},
   "source": [
    "### Cool. I guess we are good to go!\n",
    "\n",
    "![good_to_go](./Photos/good_to_go.gif)"
   ]
  },
  {
   "cell_type": "code",
   "execution_count": 1,
   "metadata": {
    "ExecuteTime": {
     "end_time": "2019-02-14T06:48:24.026479Z",
     "start_time": "2019-02-14T06:48:24.021617Z"
    }
   },
   "outputs": [
    {
     "name": "stdout",
     "output_type": "stream",
     "text": [
      "Hello World\n"
     ]
    }
   ],
   "source": [
    "# This is how you comment a code in Python!\n",
    "\n",
    "# Let's start with the famous code.\n",
    "print('Hello World')"
   ]
  },
  {
   "cell_type": "code",
   "execution_count": null,
   "metadata": {
    "ExecuteTime": {
     "end_time": "2019-02-14T06:48:48.524270Z",
     "start_time": "2019-02-14T06:48:48.500800Z"
    },
    "scrolled": false
   },
   "outputs": [],
   "source": [
    "# a collection of 20 software principles that influences the design of Python Programming Language, of which 19 were written down\n",
    "import this"
   ]
  },
  {
   "cell_type": "markdown",
   "metadata": {},
   "source": [
    "In order to get an understanding of these aphorisms, take a look at this [link](https://artifex.org/~hblanks/talks/2011/pep20_by_example.html)."
   ]
  },
  {
   "cell_type": "markdown",
   "metadata": {},
   "source": [
    "# Numerical and Boolean Operations <a name = \"num_bool\"></a>"
   ]
  },
  {
   "cell_type": "code",
   "execution_count": 2,
   "metadata": {
    "ExecuteTime": {
     "end_time": "2019-02-14T06:52:46.349698Z",
     "start_time": "2019-02-14T06:52:46.342535Z"
    }
   },
   "outputs": [
    {
     "name": "stdout",
     "output_type": "stream",
     "text": [
      "6.25\n",
      "6\n",
      "1\n",
      "9\n",
      "python3\n"
     ]
    }
   ],
   "source": [
    "## some basic mathematical operations , I am not showing. You do it. But see this.\n",
    "\n",
    "print(25/4)\n",
    "print(25//4)\n",
    "print(25%4) # modulo operator\n",
    "\n",
    "x = 3\n",
    "x *= 3 # in-place operator\n",
    "print(x)\n",
    "\n",
    "y = \"python\"\n",
    "y += \"3\"\n",
    "print(y)"
   ]
  },
  {
   "cell_type": "markdown",
   "metadata": {},
   "source": [
    "In Python 3, `/` is called __floating point division__ and `//` is __floor division__. **But In Python 2.7, it will return the base integer (6 in this case) in both the divisions**.\n",
    "\n",
    "Let's look at some **Boolean operations**."
   ]
  },
  {
   "cell_type": "code",
   "execution_count": 3,
   "metadata": {
    "ExecuteTime": {
     "end_time": "2019-02-15T02:24:00.503073Z",
     "start_time": "2019-02-15T02:24:00.491590Z"
    }
   },
   "outputs": [
    {
     "name": "stdout",
     "output_type": "stream",
     "text": [
      "False\n",
      "True\n",
      "True\n",
      "False\n",
      "False\n",
      "True\n",
      "True\n"
     ]
    }
   ],
   "source": [
    "print(2 == 3)\n",
    "print(6 != 7)\n",
    "print(1 == True)\n",
    "print(2 == True)\n",
    "print(3 == False)\n",
    "print(9 is not \"nine\")\n",
    "print(5 > 3)"
   ]
  },
  {
   "cell_type": "code",
   "execution_count": 4,
   "metadata": {
    "ExecuteTime": {
     "end_time": "2019-02-15T02:24:00.503073Z",
     "start_time": "2019-02-15T02:24:00.491590Z"
    }
   },
   "outputs": [
    {
     "name": "stdout",
     "output_type": "stream",
     "text": [
      "Now these.\n",
      "---------\n",
      "False\n",
      "False\n",
      "False\n"
     ]
    }
   ],
   "source": [
    "print(\"Now these.\\n---------\")\n",
    "print(6 < 6.0)\n",
    "print((3 * 0.1) == 0.3)\n",
    "print((3 * 0.1) == (3/10))"
   ]
  },
  {
   "cell_type": "code",
   "execution_count": 5,
   "metadata": {
    "ExecuteTime": {
     "end_time": "2019-02-15T02:24:00.503073Z",
     "start_time": "2019-02-15T02:24:00.491590Z"
    },
    "scrolled": false
   },
   "outputs": [
    {
     "name": "stdout",
     "output_type": "stream",
     "text": [
      "Well....!\n",
      "---------\n",
      "0.30000000000000004\n",
      "0.3\n",
      "0.6000000000000001\n",
      "0.4\n",
      "0.4\n",
      "0.6000000000000001\n",
      "0.6\n",
      "1.7999999999999998\n",
      "0.8\n",
      "0.15000000000000002\n",
      "0.07500000000000001\n"
     ]
    }
   ],
   "source": [
    "print(\"Well....!\\n---------\")\n",
    "print(3 * 0.1)\n",
    "print(3/10)\n",
    "print(3 * 0.2)\n",
    "print(4 * 0.1)\n",
    "print(4/10)\n",
    "print(6 * 0.1)\n",
    "print(6/10)\n",
    "print(6 * 0.3)\n",
    "print(8 * 0.1)\n",
    "print(1.5 * 0.1)\n",
    "print(0.75 * 0.1)"
   ]
  },
  {
   "cell_type": "markdown",
   "metadata": {},
   "source": [
    "### Q2. But why is this happening?[Answer](#answer2)\n",
    "<a name=\"back2\"></a>"
   ]
  },
  {
   "cell_type": "markdown",
   "metadata": {},
   "source": [
    "The following table lists all of Python's operators, from __highest precedence to lowest__.\n",
    "\n",
    "| Operator | Description |\n",
    "| :---:| :---: |\n",
    "| ** | Exponentiation (raise to the power) |\n",
    "| ~, +, - | Complement, unary plus and minus |\n",
    "| * , /, %, // | Multiply, floating point division, modulo and ﬂoor division |\n",
    "| +,- | Addition and subtraction |\n",
    "| >>, << | Right and left bitwise shift |\n",
    "| & | Bitwise AND |\n",
    "| ^ | Bitwise XOR |\n",
    "| | | Bitwise OR |\n",
    "| in, not in, is, is not, <, <=, >, >= | Comparison operators, equality operators, membership and identity operators |\n",
    "| not | Boolean NOT |\n",
    "| and | Boolean AND |\n",
    "| or | Boolean OR |\n",
    "| =, %=, /=, //=, +=, -=, ```*=``` | Assignment operators |\n",
    "\n",
    "# Variables and Objects <a name=\"var_obj\"></a>\n",
    "\n",
    "Few things about variables:\n",
    "\n",
    "* Variables do not have a defined type at compile time.\n",
    "* Variables can reference any type of object!\n",
    "* Variable type can change in run-time.\n",
    "\n",
    "Type checking is performed at run-time, and hence __dynamic languages are slower than static languages__.\n",
    "\n",
    "__Everything in Python is an Object!__ `object` is the base type for every Python Object. Objects can be:\n",
    "* __Mutable__: value can be changed. [list, set, dictionaries]\n",
    "* __Immutable__: value is unchangeable. [number, string, frozenset, tuple]\n",
    "\n",
    "Object mutability is defined by its __type__. __They Are Never Explicitly Destroyed!__ Allocation and deletion is done by the interpreter.\n",
    "\n",
    "The most commonly used methods of constructing a multi-word variable name are as follows:\n",
    "\n",
    "* **Camel Case**: Second and subsequent words are capitalized, to make word boundaries easier to see.\n",
    "    + Example: numberOfCollegeGraduates\n",
    "* **Pascal Case**: Identical to Camel Case, except the first word is also capitalized.\n",
    "    + Example: NumberOfCollegeGraduates\n",
    "* **Snake Case**: Words are separated by underscores.\n",
    "    + Example: number_of_college_graduates"
   ]
  },
  {
   "cell_type": "code",
   "execution_count": 6,
   "metadata": {
    "ExecuteTime": {
     "end_time": "2019-01-23T07:08:23.589119Z",
     "start_time": "2019-01-23T07:08:23.585570Z"
    }
   },
   "outputs": [
    {
     "ename": "SyntaxError",
     "evalue": "invalid token (<ipython-input-6-86ef5c1e467d>, line 3)",
     "output_type": "error",
     "traceback": [
      "\u001b[0;36m  File \u001b[0;32m\"<ipython-input-6-86ef5c1e467d>\"\u001b[0;36m, line \u001b[0;32m3\u001b[0m\n\u001b[0;31m    1234_get_on_the_dance_floor = \"really?\"\u001b[0m\n\u001b[0m        ^\u001b[0m\n\u001b[0;31mSyntaxError\u001b[0m\u001b[0;31m:\u001b[0m invalid token\n"
     ]
    }
   ],
   "source": [
    "my_variable = \"is my variable, None of your variable\"\n",
    "\n",
    "1234_get_on_the_dance_floor = \"really?\""
   ]
  },
  {
   "cell_type": "markdown",
   "metadata": {
    "ExecuteTime": {
     "end_time": "2018-10-08T15:35:46.397704Z",
     "start_time": "2018-10-08T15:35:46.392236Z"
    }
   },
   "source": [
    "## Data Type and Type Conversion <a name = \"data_type_conversion\"></a>"
   ]
  },
  {
   "cell_type": "code",
   "execution_count": 7,
   "metadata": {
    "ExecuteTime": {
     "end_time": "2019-02-14T07:04:24.452962Z",
     "start_time": "2019-02-14T07:04:24.155446Z"
    }
   },
   "outputs": [
    {
     "name": "stdout",
     "output_type": "stream",
     "text": [
      "<class 'str'>\n",
      "<class 'bool'>\n",
      "<class 'float'>\n",
      "<class 'complex'>\n"
     ]
    }
   ],
   "source": [
    "# data types\n",
    "\n",
    "print(type(\"hello\"))\n",
    "\n",
    "print(type(True))\n",
    "\n",
    "print(type(999.666))\n",
    "\n",
    "print(type((-1+0j)))\n",
    "\n",
    "# and also list, tuple, set, dictionary, date, enumerate"
   ]
  },
  {
   "cell_type": "code",
   "execution_count": 8,
   "metadata": {
    "ExecuteTime": {
     "end_time": "2019-02-14T07:05:18.979188Z",
     "start_time": "2019-02-14T07:05:18.972338Z"
    }
   },
   "outputs": [
    {
     "name": "stdout",
     "output_type": "stream",
     "text": [
      "6.0\n",
      "We are using Python 3\n",
      "9\n"
     ]
    }
   ],
   "source": [
    "# type conversion\n",
    "\n",
    "print(float(6))\n",
    "print(\"We are using Python \" + str(3))\n",
    "print(int(\"3\") + int(\"6\"))"
   ]
  },
  {
   "cell_type": "markdown",
   "metadata": {},
   "source": [
    "# Importing Python Modules and standard libraries <a name = \"modules\"></a>\n",
    "\n",
    "There are several ways to import standard and open-source external libraries to your programming environment:"
   ]
  },
  {
   "cell_type": "code",
   "execution_count": 9,
   "metadata": {
    "ExecuteTime": {
     "end_time": "2019-01-23T07:15:50.945256Z",
     "start_time": "2019-01-23T07:15:50.940380Z"
    }
   },
   "outputs": [
    {
     "name": "stdout",
     "output_type": "stream",
     "text": [
      "0.8509035245341184\n",
      "==================================================\n",
      "0.8509035245341184\n",
      "1.6094379124341003\n"
     ]
    }
   ],
   "source": [
    "# 1. By directly import\n",
    "import math\n",
    "print(math.sin(45))\n",
    "print(\"=\"*50)\n",
    "\n",
    "# 2. By importing everything\n",
    "from math import *\n",
    "\n",
    "# 3. Using alias\n",
    "import math as m\n",
    "\n",
    "# 4. By specifically importing its functions\n",
    "from math import sin, log\n",
    "print(sin(45))\n",
    "print(log(5))"
   ]
  },
  {
   "cell_type": "code",
   "execution_count": 10,
   "metadata": {
    "ExecuteTime": {
     "end_time": "2019-02-14T07:09:17.285550Z",
     "start_time": "2019-02-14T07:09:17.280052Z"
    },
    "scrolled": false
   },
   "outputs": [
    {
     "ename": "SyntaxError",
     "evalue": "invalid syntax (<ipython-input-10-fb7b90dea49e>, line 1)",
     "output_type": "error",
     "traceback": [
      "\u001b[0;36m  File \u001b[0;32m\"<ipython-input-10-fb7b90dea49e>\"\u001b[0;36m, line \u001b[0;32m1\u001b[0m\n\u001b[0;31m    print math.log(5)\u001b[0m\n\u001b[0m             ^\u001b[0m\n\u001b[0;31mSyntaxError\u001b[0m\u001b[0;31m:\u001b[0m invalid syntax\n"
     ]
    }
   ],
   "source": [
    "print math.log(5)"
   ]
  },
  {
   "cell_type": "markdown",
   "metadata": {},
   "source": [
    "### Some of the default modules in Python\n",
    "![default_modules](Photos/default_modules.png)"
   ]
  },
  {
   "cell_type": "code",
   "execution_count": 11,
   "metadata": {
    "ExecuteTime": {
     "end_time": "2019-02-14T07:11:21.058674Z",
     "start_time": "2019-02-14T07:11:19.739024Z"
    },
    "hide_input": true
   },
   "outputs": [],
   "source": [
    "import numpy as np\n",
    "import keyword\n",
    "from tabulate import tabulate"
   ]
  },
  {
   "cell_type": "markdown",
   "metadata": {},
   "source": [
    "# Python Built-in Functions and keywords <a name = \"builtins\"></a>\n",
    "\n",
    "__Built-in functions__ are core functions, provided by the Python Interpreter. These functions are __implemented in C__ and hence are capable of using and manipulating Python objects at memory level, with increased performance.\n",
    "\n",
    "__Keywords__ are basically reserved words. It can't be used as variable's names."
   ]
  },
  {
   "cell_type": "code",
   "execution_count": 12,
   "metadata": {
    "ExecuteTime": {
     "end_time": "2019-02-14T07:11:33.570361Z",
     "start_time": "2019-02-14T07:11:33.554904Z"
    },
    "hide_input": true,
    "scrolled": false
   },
   "outputs": [
    {
     "name": "stdout",
     "output_type": "stream",
     "text": [
      "| ArithmeticError      | AssertionError         | AttributeError     | BaseException             |\n",
      "| BlockingIOError      | BrokenPipeError        | BufferError        | BytesWarning              |\n",
      "| ChildProcessError    | ConnectionAbortedError | ConnectionError    | ConnectionRefusedError    |\n",
      "| ConnectionResetError | DeprecationWarning     | EOFError           | Ellipsis                  |\n",
      "| EnvironmentError     | Exception              | False              | FileExistsError           |\n",
      "| FileNotFoundError    | FloatingPointError     | FutureWarning      | GeneratorExit             |\n",
      "| IOError              | ImportError            | ImportWarning      | IndentationError          |\n",
      "| IndexError           | InterruptedError       | IsADirectoryError  | KeyError                  |\n",
      "| KeyboardInterrupt    | LookupError            | MemoryError        | ModuleNotFoundError       |\n",
      "| NameError            | None                   | NotADirectoryError | NotImplemented            |\n",
      "| NotImplementedError  | OSError                | OverflowError      | PendingDeprecationWarning |\n",
      "| PermissionError      | ProcessLookupError     | RecursionError     | ReferenceError            |\n",
      "| ResourceWarning      | RuntimeError           | RuntimeWarning     | StopAsyncIteration        |\n",
      "| StopIteration        | SyntaxError            | SyntaxWarning      | SystemError               |\n",
      "| SystemExit           | TabError               | TimeoutError       | True                      |\n",
      "| TypeError            | UnboundLocalError      | UnicodeDecodeError | UnicodeEncodeError        |\n",
      "| UnicodeError         | UnicodeTranslateError  | UnicodeWarning     | UserWarning               |\n",
      "| ValueError           | Warning                | ZeroDivisionError  | __IPYTHON__               |\n",
      "| __build_class__      | __debug__              | __doc__            | __import__                |\n",
      "| __loader__           | __name__               | __package__        | __spec__                  |\n",
      "| abs                  | all                    | any                | ascii                     |\n",
      "| bin                  | bool                   | bytearray          | bytes                     |\n",
      "| callable             | chr                    | classmethod        | compile                   |\n",
      "| complex              | copyright              | credits            | delattr                   |\n",
      "| dict                 | dir                    | display            | divmod                    |\n",
      "| enumerate            | eval                   | exec               | filter                    |\n",
      "| float                | format                 | frozenset          | get_ipython               |\n",
      "| getattr              | globals                | hasattr            | hash                      |\n",
      "| help                 | hex                    | id                 | input                     |\n",
      "| int                  | isinstance             | issubclass         | iter                      |\n",
      "| len                  | license                | list               | locals                    |\n",
      "| map                  | max                    | memoryview         | min                       |\n",
      "| next                 | object                 | oct                | open                      |\n",
      "| ord                  | pow                    | print              | property                  |\n",
      "| range                | repr                   | reversed           | round                     |\n",
      "| set                  | setattr                | slice              | sorted                    |\n",
      "| staticmethod         | str                    | sum                | super                     |\n",
      "| tuple                | type                   | vars               | zip                       |\n"
     ]
    }
   ],
   "source": [
    "builtin_functions_list = dir(__builtins__)\n",
    "builtin_functions_data = np.array(builtin_functions_list)\n",
    "shape = ((len(builtin_functions_list)//4),4)\n",
    "print(tabulate(builtin_functions_data.reshape(shape), tablefmt='orgtbl'))"
   ]
  },
  {
   "cell_type": "code",
   "execution_count": 13,
   "metadata": {
    "ExecuteTime": {
     "end_time": "2019-02-14T07:13:48.203950Z",
     "start_time": "2019-02-14T07:13:48.198805Z"
    },
    "hide_input": true,
    "scrolled": true
   },
   "outputs": [
    {
     "name": "stdout",
     "output_type": "stream",
     "text": [
      "| False | None   | True     |\n",
      "| and   | as     | assert   |\n",
      "| break | class  | continue |\n",
      "| def   | del    | elif     |\n",
      "| else  | except | finally  |\n",
      "| for   | from   | global   |\n",
      "| if    | import | in       |\n",
      "| is    | lambda | nonlocal |\n",
      "| not   | or     | pass     |\n",
      "| raise | return | try      |\n",
      "| while | with   | yield    |\n"
     ]
    }
   ],
   "source": [
    "### keywords\n",
    "keywords_list = keyword.kwlist\n",
    "keywords_data = np.array(keywords_list)\n",
    "shape = ((len(keywords_list)//3),3)\n",
    "print(tabulate(keywords_data.reshape(shape), tablefmt='orgtbl'))"
   ]
  },
  {
   "cell_type": "markdown",
   "metadata": {},
   "source": [
    "# String operations and formatting <a name = \"string_ops\"></a>"
   ]
  },
  {
   "cell_type": "code",
   "execution_count": 14,
   "metadata": {
    "ExecuteTime": {
     "end_time": "2019-02-14T07:18:49.911199Z",
     "start_time": "2019-02-14T07:18:49.541589Z"
    }
   },
   "outputs": [
    {
     "name": "stdout",
     "output_type": "stream",
     "text": [
      "This is concatenation of string\n",
      "333\n"
     ]
    },
    {
     "ename": "TypeError",
     "evalue": "can't multiply sequence by non-int of type 'float'",
     "output_type": "error",
     "traceback": [
      "\u001b[0;31m---------------------------------------------------------------------------\u001b[0m",
      "\u001b[0;31mTypeError\u001b[0m                                 Traceback (most recent call last)",
      "\u001b[0;32m<ipython-input-14-66f04f98173d>\u001b[0m in \u001b[0;36m<module>\u001b[0;34m\u001b[0m\n\u001b[1;32m      6\u001b[0m \u001b[0mprint\u001b[0m\u001b[0;34m(\u001b[0m\u001b[0;36m3\u001b[0m \u001b[0;34m*\u001b[0m \u001b[0;34m\"3\"\u001b[0m\u001b[0;34m)\u001b[0m\u001b[0;34m\u001b[0m\u001b[0;34m\u001b[0m\u001b[0m\n\u001b[1;32m      7\u001b[0m \u001b[0;34m\u001b[0m\u001b[0m\n\u001b[0;32m----> 8\u001b[0;31m \u001b[0mprint\u001b[0m\u001b[0;34m(\u001b[0m\u001b[0;34m\"python\"\u001b[0m \u001b[0;34m*\u001b[0m \u001b[0;36m3.7\u001b[0m\u001b[0;34m)\u001b[0m\u001b[0;34m\u001b[0m\u001b[0;34m\u001b[0m\u001b[0m\n\u001b[0m",
      "\u001b[0;31mTypeError\u001b[0m: can't multiply sequence by non-int of type 'float'"
     ]
    }
   ],
   "source": [
    "## Concatenation\n",
    "\n",
    "str_var_1 = \"concatenation\"\n",
    "print(\"This is \" + str_var_1 + \" of string\")\n",
    "\n",
    "print(3 * \"3\")\n",
    "\n",
    "print(\"python\" * 3.7)"
   ]
  },
  {
   "cell_type": "code",
   "execution_count": 15,
   "metadata": {
    "ExecuteTime": {
     "end_time": "2019-02-14T07:24:13.431611Z",
     "start_time": "2019-02-14T07:24:13.426473Z"
    }
   },
   "outputs": [
    {
     "name": "stdout",
     "output_type": "stream",
     "text": [
      "We are using Python version 3.6.x\n",
      "We could have also used Python 2.7\n",
      "abra cadabra \n"
     ]
    }
   ],
   "source": [
    "## string formatting\n",
    "\n",
    "# It provides a powerful way of embedding non-strings with strings\n",
    "\n",
    "py_ver = \"We are using Python version {}.{}.x\".format(3,6)\n",
    "print(py_ver)\n",
    "\n",
    "other_version = 2.7\n",
    "print(f\"We could have also used Python {other_version}\") #another way of performing string formatting\n",
    "\n",
    "print(\"{0}{1}{0}\".format(\"abra \",\"cad\"))"
   ]
  },
  {
   "cell_type": "markdown",
   "metadata": {
    "ExecuteTime": {
     "end_time": "2018-10-08T19:36:04.234044Z",
     "start_time": "2018-10-08T19:36:04.230242Z"
    }
   },
   "source": [
    "# Useful Pythonic Functions <a name = \"pythonic_func\"></a>"
   ]
  },
  {
   "cell_type": "code",
   "execution_count": 16,
   "metadata": {
    "ExecuteTime": {
     "end_time": "2019-02-15T02:27:02.268109Z",
     "start_time": "2019-02-15T02:27:02.256715Z"
    }
   },
   "outputs": [
    {
     "name": "stdout",
     "output_type": "stream",
     "text": [
      "NASA | Google | Netflix | Yahoo\n",
      "['NASA', 'Google', 'Netflix', 'Yahoo']\n",
      "['N', 'S', '-Google-Netflix-Yahoo']\n",
      "Python 3.6\n",
      "True\n",
      "PYTHON\n"
     ]
    }
   ],
   "source": [
    "# strings\n",
    "\n",
    "print(\" | \".join([\"NASA\",\"Google\",\"Netflix\",\"Yahoo\"]))\n",
    "\n",
    "print(\"NASA-Google-Netflix-Yahoo\".split(\"-\"))\n",
    "print(\"NASA-Google-Netflix-Yahoo\".split(\"A\"))\n",
    "\n",
    "print(\"Python 2.7\".replace(\"2.7\",\"3.6\"))\n",
    "\n",
    "print(\"There is more to it than meets the eye\".startswith(\"There\")) # also endswith is there\n",
    "\n",
    "print(\"python\".upper())"
   ]
  },
  {
   "cell_type": "code",
   "execution_count": 17,
   "metadata": {
    "ExecuteTime": {
     "end_time": "2019-01-24T06:43:28.863278Z",
     "start_time": "2019-01-24T06:43:28.857016Z"
    }
   },
   "outputs": [
    {
     "name": "stdout",
     "output_type": "stream",
     "text": [
      "98\n",
      "9\n",
      "20\n"
     ]
    }
   ],
   "source": [
    "# numeric\n",
    "\n",
    "print(max(10,64,86,13,98))\n",
    "\n",
    "print(abs(-9))\n",
    "\n",
    "print(sum([2,4,6,8]))"
   ]
  },
  {
   "cell_type": "markdown",
   "metadata": {},
   "source": [
    "# User Input Function <a name = \"user_in\"></a>\n",
    "\n",
    "There is no `raw_input` function in Python 3 as available in Python 2. __By default, it expects string input__."
   ]
  },
  {
   "cell_type": "code",
   "execution_count": 18,
   "metadata": {
    "ExecuteTime": {
     "end_time": "2019-02-14T07:25:49.594997Z",
     "start_time": "2019-02-14T07:25:45.788016Z"
    }
   },
   "outputs": [
    {
     "name": "stdout",
     "output_type": "stream",
     "text": [
      "Enter your ID: 12345\n",
      "<class 'int'>\n",
      "Employee having ID No: 12345 is late for office today.\n"
     ]
    }
   ],
   "source": [
    "# user input\n",
    "\n",
    "data_input = int(input(\"Enter your ID: \"))\n",
    "print(type(data_input))\n",
    "print(\"Employee having ID No: {} is late for office today.\".format(data_input))"
   ]
  },
  {
   "cell_type": "code",
   "execution_count": 20,
   "metadata": {
    "ExecuteTime": {
     "end_time": "2019-02-14T07:27:33.143401Z",
     "start_time": "2019-02-14T07:27:25.865341Z"
    }
   },
   "outputs": [
    {
     "name": "stdout",
     "output_type": "stream",
     "text": [
      "Enter your name: bruce martha wayne\n"
     ]
    },
    {
     "ename": "ValueError",
     "evalue": "not enough values to unpack (expected 2, got 1)",
     "output_type": "error",
     "traceback": [
      "\u001b[0;31m---------------------------------------------------------------------------\u001b[0m",
      "\u001b[0;31mValueError\u001b[0m                                Traceback (most recent call last)",
      "\u001b[0;32m<ipython-input-20-8a1aa21e112d>\u001b[0m in \u001b[0;36m<module>\u001b[0;34m\u001b[0m\n\u001b[1;32m      1\u001b[0m \u001b[0;31m# multiple inputs in a single entry\u001b[0m\u001b[0;34m\u001b[0m\u001b[0;34m\u001b[0m\u001b[0;34m\u001b[0m\u001b[0m\n\u001b[1;32m      2\u001b[0m \u001b[0;34m\u001b[0m\u001b[0m\n\u001b[0;32m----> 3\u001b[0;31m \u001b[0mvar_1\u001b[0m\u001b[0;34m,\u001b[0m \u001b[0mvar_2\u001b[0m \u001b[0;34m=\u001b[0m \u001b[0minput\u001b[0m\u001b[0;34m(\u001b[0m\u001b[0;34m\"Enter your name: \"\u001b[0m\u001b[0;34m)\u001b[0m\u001b[0;34m.\u001b[0m\u001b[0msplit\u001b[0m\u001b[0;34m(\u001b[0m\u001b[0;34m\"-\"\u001b[0m\u001b[0;34m)\u001b[0m\u001b[0;34m\u001b[0m\u001b[0;34m\u001b[0m\u001b[0m\n\u001b[0m\u001b[1;32m      4\u001b[0m \u001b[0mprint\u001b[0m\u001b[0;34m(\u001b[0m\u001b[0mvar_1\u001b[0m\u001b[0;34m)\u001b[0m\u001b[0;34m\u001b[0m\u001b[0;34m\u001b[0m\u001b[0m\n\u001b[1;32m      5\u001b[0m \u001b[0mprint\u001b[0m\u001b[0;34m(\u001b[0m\u001b[0mvar_2\u001b[0m\u001b[0;34m)\u001b[0m\u001b[0;34m\u001b[0m\u001b[0;34m\u001b[0m\u001b[0m\n",
      "\u001b[0;31mValueError\u001b[0m: not enough values to unpack (expected 2, got 1)"
     ]
    }
   ],
   "source": [
    "# multiple inputs in a single entry\n",
    "\n",
    "var_1, var_2 = input(\"Enter your name: \").split(\"-\")\n",
    "print(var_1)\n",
    "print(var_2)"
   ]
  },
  {
   "cell_type": "code",
   "execution_count": 21,
   "metadata": {
    "ExecuteTime": {
     "end_time": "2019-02-15T02:28:45.829787Z",
     "start_time": "2019-02-15T02:28:40.223664Z"
    }
   },
   "outputs": [
    {
     "name": "stdout",
     "output_type": "stream",
     "text": [
      "Enter your name: bruce martha clark kent wayne diana\n",
      "bruce\n",
      "diana\n"
     ]
    }
   ],
   "source": [
    "# another way of performing the same thing mentioned above\n",
    "name_var = input(\"Enter your name: \").split(\" \")\n",
    "print(name_var[0])\n",
    "print(name_var[-1])"
   ]
  },
  {
   "cell_type": "markdown",
   "metadata": {},
   "source": [
    "# User-Defined Function <a name = \"udf\"></a>\n",
    "\n",
    "Before going ahead, can you tell me the difference between a function and a method? [Answer](#answer3)\n",
    "\n",
    "<a name=\"back3\"></a>\n",
    "\n",
    "Create your own functions using __def__ keyword.\n",
    "\n",
    "UDF can either take or don't take parameters. The **parameters** are the variables declared in a function definition, and **arguments** are the values placed to the parameters when the function is called.\n",
    "\n",
    "The name of the UDF should be __lowercase__.\n",
    "\n",
    "**NOTE: You must define functions before they are called, in the same way you declare a variable before using them**"
   ]
  },
  {
   "cell_type": "code",
   "execution_count": 1,
   "metadata": {
    "ExecuteTime": {
     "end_time": "2019-02-18T07:48:34.467167Z",
     "start_time": "2019-02-18T07:48:34.455684Z"
    }
   },
   "outputs": [
    {
     "name": "stdout",
     "output_type": "stream",
     "text": [
      "Calling UDF 1!\n",
      "RequiredArg:  17.1\n",
      "\n",
      "Calling UDF 2!\n",
      "OptionalArg:  5\n",
      "OptionalArg:  9\n",
      "\n",
      "Calling UDF 3!\n",
      "RequiredArg:  Python\n",
      "OptionalArg:  3.6\n",
      "Remaining Non-keyworded args:  (2, 7, 5, 1)\n",
      "Remaining keyworded args:  {'MSU_Python_Session': 1, 'kwargs_1': 'good stuffs', 'kwargs_2': 2.7, 'kwargs_3': True}\n"
     ]
    }
   ],
   "source": [
    "def udf_1(rqrdArg):\n",
    "    return(3*rqrdArg)\n",
    "\n",
    "def udf_2(optnlArg = 5):\n",
    "    print(\"OptionalArg: \", optnlArg)\n",
    "    \n",
    "def udf_3(rqrdArg, optnlArg=None, *args, **kwargs): # *args = extra unnamed argument, **kwargs = extra named arguments\n",
    "    print(\"RequiredArg: \", rqrdArg)\n",
    "    print(\"OptionalArg: \", optnlArg)\n",
    "    print(\"Remaining Non-keyworded args: \", args)\n",
    "    print(\"Remaining keyworded args: \", kwargs)\n",
    "\n",
    "print(\"Calling UDF 1!\")\n",
    "print(\"RequiredArg: \", udf_1(5.7))\n",
    "\n",
    "print(\"\\nCalling UDF 2!\")\n",
    "udf_2()\n",
    "udf_2(9)\n",
    "\n",
    "print(\"\\nCalling UDF 3!\")\n",
    "udf_3(\"Python\",\"3.6\",2,7,5,1,MSU_Python_Session=1, kwargs_1=\"good stuffs\", kwargs_2=2.7, kwargs_3=True)"
   ]
  },
  {
   "cell_type": "code",
   "execution_count": 2,
   "metadata": {
    "ExecuteTime": {
     "end_time": "2019-02-18T07:52:04.786596Z",
     "start_time": "2019-02-18T07:52:04.775881Z"
    }
   },
   "outputs": [
    {
     "name": "stdout",
     "output_type": "stream",
     "text": [
      "120\n"
     ]
    }
   ],
   "source": [
    "def UDF_factorial(x):\n",
    "    \"\"\"\n",
    "    This is a recursive function performing factorial of a number\n",
    "    \n",
    "    input:\n",
    "        x: the number whose factorial is calculated\n",
    "    return: the factorial value\n",
    "    \"\"\"\n",
    "    if x == 1:\n",
    "        return 1\n",
    "    else:\n",
    "        return x * UDF_factorial(x-1)\n",
    "    \n",
    "print(UDF_factorial(5))"
   ]
  },
  {
   "cell_type": "code",
   "execution_count": 3,
   "metadata": {
    "ExecuteTime": {
     "end_time": "2019-02-18T07:52:20.354350Z",
     "start_time": "2019-02-18T07:52:20.276710Z"
    }
   },
   "outputs": [],
   "source": [
    "?UDF_factorial"
   ]
  },
  {
   "cell_type": "markdown",
   "metadata": {},
   "source": [
    "__*args__ and __**kwargs__ allow one to pass a __variable-length argument list__ and __keyworded, variable-length argument dictionary__ respectively to a function when one doesn't know beforehand how many arguments can be passed to the function."
   ]
  },
  {
   "cell_type": "code",
   "execution_count": 4,
   "metadata": {
    "ExecuteTime": {
     "end_time": "2019-02-18T07:54:27.543517Z",
     "start_time": "2019-02-18T07:54:27.387637Z"
    }
   },
   "outputs": [
    {
     "name": "stdout",
     "output_type": "stream",
     "text": [
      "27\n"
     ]
    },
    {
     "ename": "TypeError",
     "evalue": "multiply() takes 2 positional arguments but 3 were given",
     "output_type": "error",
     "traceback": [
      "\u001b[0;31m---------------------------------------------------------------------------\u001b[0m",
      "\u001b[0;31mTypeError\u001b[0m                                 Traceback (most recent call last)",
      "\u001b[0;32m<ipython-input-4-999cf6ad6adb>\u001b[0m in \u001b[0;36m<module>\u001b[0;34m\u001b[0m\n\u001b[1;32m      3\u001b[0m \u001b[0;34m\u001b[0m\u001b[0m\n\u001b[1;32m      4\u001b[0m \u001b[0mmultiply\u001b[0m\u001b[0;34m(\u001b[0m\u001b[0;36m3\u001b[0m\u001b[0;34m,\u001b[0m\u001b[0;36m9\u001b[0m\u001b[0;34m)\u001b[0m\u001b[0;34m\u001b[0m\u001b[0;34m\u001b[0m\u001b[0m\n\u001b[0;32m----> 5\u001b[0;31m \u001b[0mmultiply\u001b[0m\u001b[0;34m(\u001b[0m\u001b[0;36m3\u001b[0m\u001b[0;34m,\u001b[0m\u001b[0;36m6\u001b[0m\u001b[0;34m,\u001b[0m\u001b[0;36m9\u001b[0m\u001b[0;34m)\u001b[0m\u001b[0;34m\u001b[0m\u001b[0;34m\u001b[0m\u001b[0m\n\u001b[0m",
      "\u001b[0;31mTypeError\u001b[0m: multiply() takes 2 positional arguments but 3 were given"
     ]
    }
   ],
   "source": [
    "def multiply(x,y):\n",
    "    print(x*y)\n",
    "    \n",
    "multiply(3,9)\n",
    "multiply(3,6,9)"
   ]
  },
  {
   "cell_type": "code",
   "execution_count": 5,
   "metadata": {
    "ExecuteTime": {
     "end_time": "2019-02-18T07:55:41.732304Z",
     "start_time": "2019-02-18T07:55:41.725329Z"
    }
   },
   "outputs": [
    {
     "name": "stdout",
     "output_type": "stream",
     "text": [
      "20\n",
      "90\n",
      "24\n",
      "900\n"
     ]
    }
   ],
   "source": [
    "# resolving the above issue with *args\n",
    "def multiply(*args):\n",
    "    x = 1\n",
    "    for num in args:\n",
    "        x *= num\n",
    "    print(x)\n",
    "\n",
    "multiply(4, 5)\n",
    "multiply(10, 9)\n",
    "multiply(2, 3, 4)\n",
    "multiply(3, 5, 10, 6)"
   ]
  },
  {
   "cell_type": "code",
   "execution_count": null,
   "metadata": {
    "ExecuteTime": {
     "end_time": "2019-02-18T07:56:44.047749Z",
     "start_time": "2019-02-18T07:56:44.039490Z"
    },
    "code_folding": [],
    "scrolled": true
   },
   "outputs": [],
   "source": [
    "# likewise for **kwargs\n",
    "def print_kwargs(**kwargs):\n",
    "    print(kwargs)\n",
    "\n",
    "print_kwargs(kwargs_1=\"good stuffs\", kwargs_2=2.7, kwargs_3=True)"
   ]
  },
  {
   "cell_type": "markdown",
   "metadata": {},
   "source": [
    "When ordering arguments within a function or function call, arguments need to occur in a particular order:\n",
    "\n",
    "1. Formal positional arguments\n",
    "2. __*args__\n",
    "3. Keyword arguments\n",
    "4. __**kwargs__"
   ]
  },
  {
   "cell_type": "markdown",
   "metadata": {},
   "source": [
    "# Scope of a variable <a name=\"scope\"></a>\n",
    "\n",
    "Not all variables are accessible from all parts of our program, and not all variables exist for the same amount of time.\n",
    "\n",
    "Basically, part of a program where a variable is accessible is its __scope__ and the duration for which the variable exists its __lifetime__.\n",
    "\n",
    "There are two types of variable scope:\n",
    "* __Global__: It is defined in the main body of a file, will be visible throughout the file, and also inside any file which imports that file.\n",
    "* __Local__: it is  defined inside a function, limiting its availability inside that function. It is accessible from the point at which it is defined until the end of the function, and exists for as long as the function is executing.\n",
    "\n",
    "In Python 3, a third type of variable scope has been defined - __nonlocal__. It allows to assign variables in an __outer, but non-global__, scope."
   ]
  },
  {
   "cell_type": "code",
   "execution_count": 6,
   "metadata": {
    "ExecuteTime": {
     "end_time": "2019-02-18T08:00:06.924452Z",
     "start_time": "2019-02-18T08:00:06.910220Z"
    }
   },
   "outputs": [
    {
     "name": "stdout",
     "output_type": "stream",
     "text": [
      "x inside : global\n",
      "x outside: global\n"
     ]
    }
   ],
   "source": [
    "# example showing global, local and nonlocal scopes\n",
    "\n",
    "# global and local\n",
    "x = \"global\"\n",
    "\n",
    "def foo():\n",
    "    print(\"x inside :\", x)\n",
    "\n",
    "foo()\n",
    "print(\"x outside:\", x)"
   ]
  },
  {
   "cell_type": "code",
   "execution_count": 7,
   "metadata": {
    "ExecuteTime": {
     "end_time": "2019-02-18T08:00:59.362565Z",
     "start_time": "2019-02-18T08:00:59.356741Z"
    },
    "scrolled": true
   },
   "outputs": [
    {
     "name": "stdout",
     "output_type": "stream",
     "text": [
      "B\n",
      "A\n"
     ]
    }
   ],
   "source": [
    "def func1():\n",
    "    msg = \"A\"\n",
    "    def func2():\n",
    "        msg = \"B\"\n",
    "        print(msg)\n",
    "    func2()\n",
    "    print(msg)\n",
    "    \n",
    "func1()"
   ]
  },
  {
   "cell_type": "markdown",
   "metadata": {},
   "source": [
    "The _msg_ variable is declared in the __func1()__ function and assigned the value _\"A\"_. Then, in the __func2()__ function, the value _\"B\"_ is assigned to variable havinf same name _msg_. \n",
    "\n",
    "When we call the function __func1()__, it is in turn calling function __func2()__ and _msg_ variable in it has the value _\"B\"_, but Python retains the old value of _\"A\"_ in the __func1()__ function.\n",
    "\n",
    "We see this behavior because Python hasn’t actually assigned new value _\"B\"_ to the existing _msg_ variable, but has created a new variable called __msg in the local scope of the inside function, that shadows the name of the variable in the outer scope__.\n",
    "\n",
    "Preventing that behavior is where the nonlocal keyword comes in."
   ]
  },
  {
   "cell_type": "code",
   "execution_count": 8,
   "metadata": {
    "ExecuteTime": {
     "end_time": "2019-02-18T08:05:46.005620Z",
     "start_time": "2019-02-18T08:05:46.000512Z"
    }
   },
   "outputs": [
    {
     "name": "stdout",
     "output_type": "stream",
     "text": [
      "C\n",
      "C\n",
      "A\n"
     ]
    }
   ],
   "source": [
    "#nonlocal\n",
    "def func1():\n",
    "    msg = \"A\"\n",
    "    \n",
    "    def func2():\n",
    "        msg = \"B\"\n",
    "        \n",
    "        def func3():\n",
    "            nonlocal msg\n",
    "            msg = \"C\"\n",
    "            print(msg)\n",
    "        func3()\n",
    "        print(msg)\n",
    "    \n",
    "    func2()\n",
    "    print(msg)\n",
    "    \n",
    "func1()"
   ]
  },
  {
   "cell_type": "markdown",
   "metadata": {},
   "source": [
    "Now, by declaring __nonlocal__ _msg_ in the __func3()__ function, Python knows that when it sees an assignment to msg, it should assign that value to the variable from the __immediate__ outer scope __instead of declaring a new variable that shadows its name__.\n",
    "\n",
    "The usage of nonlocal is very similar to that of global, except that the former is used for __variables in immediate outer function scopes__."
   ]
  },
  {
   "cell_type": "markdown",
   "metadata": {},
   "source": [
    "# Answers <a name=\"answers\"></a>"
   ]
  },
  {
   "cell_type": "markdown",
   "metadata": {
    "ExecuteTime": {
     "end_time": "2018-10-01T10:19:21.718785Z",
     "start_time": "2018-10-01T10:19:21.710171Z"
    }
   },
   "source": [
    "<a name=\"answer1\"></a>\n",
    "\n",
    "## Q1 Answer\n",
    "\n",
    "| Interpreter | Compiler |\n",
    "| :---------: | :------: |\n",
    "| Executes program by taking **one statement** at a time | Translates the **entire program** at once into machine code |\n",
    "| **No intermediate object code** is generated, hence memory efficient | **Generates intermediate object code** which further requires linking, hence requires **more memory** |\n",
    "| Less amount of time to **analyze** the source code | More amount of time |\n",
    "| Overall **execution** is slower | Faster |\n",
    "| Easier to **debug** but less efficient | Difficult but more efficient |\n",
    "| Errors are reported after the **entire program is checked** | Error is reported as soon as the **first error is encountered**. Won't show the next set of errors if the existing one isn't solved |\n",
    "\n",
    "### Python Interpreter: How does it work?\n",
    "\n",
    "![python-interpreter](Photos/python-interpreter.png)\n",
    "\n",
    "[..back](#back1)"
   ]
  },
  {
   "cell_type": "markdown",
   "metadata": {},
   "source": [
    "<a name=\"answer2\"></a>\n",
    "\n",
    "## Q2 Answer\n",
    "\n",
    "Floating point numbers are represented in computer hardware in **base 2**. Floating point numbers are usually represented in **base 10**. *But most decimal fractions cannot be represented exactly as binary fractions.* As a result, the decimal floating-point numbers you enter are only **approximated** to the binary floating-point numbers actually stored in the machine.\n",
    "\n",
    "No matter how many base 2 digits you are willing to use, the decimal value 0.1 cannot be represented **exactly** as a base 2 fraction.\n",
    "\n",
    "Many users are not aware of the approximation because of the way values are displayed. If Python were to print the true decimal value of the binary approximation stored for 0.1, it would have to display\n",
    "```\n",
    ">>> 0.1\n",
    "0.1000000000000000055511151231257827021181583404541015625\n",
    "```\n",
    "But this is more digits than most people find useful, so Python keeps the number of digits manageable by displaying a rounded value instead\n",
    "```\n",
    ">>> 0.1\n",
    "0.1\n",
    "```\n",
    "\n",
    "So, even though printed result looks like the exact value of 1/10, the *actual stored value is the __nearest representable binary fraction__*.\n",
    "\n",
    "Note that this is in the *very nature of binary floating-point*: this is **NOT a bug in Python**. You’ll see the same kind of thing in all languages that support your hardware’s floating-point arithmetic. **The errors in Python float operations are inherited from the floating-point hardware.**\n",
    "\n",
    "[..back](#back2)"
   ]
  },
  {
   "cell_type": "markdown",
   "metadata": {},
   "source": [
    "<a name=\"answer3\"></a>\n",
    "\n",
    "## Q3 Answer\n",
    "\n",
    "| Method        | Function      |\n",
    "|:---:|:---:|\n",
    "| Method is a block of code that is called by its name, but is associated to an object (dependent) | Function is a piece of code that is called by its name but independent |\n",
    "| Method is implicitly passed for the object for which it was called | Functions can have parameters, so arguments can be passed to those paramters but explicitely |\n",
    "\n",
    "[..back](#back3)"
   ]
  },
  {
   "cell_type": "markdown",
   "metadata": {},
   "source": [
    "# Additional Read <a name = \"additional_read\"></a>\n",
    "\n",
    "* [Floating Point Issue](https://docs.python.org/3/tutorial/floatingpoint.html)\n",
    "* [PEP0008 - Style Guide of Python](https://www.python.org/dev/peps/pep-0008/)\n",
    "* [The Hitchhker's Guide to Python - Writing Style](https://docs.python-guide.org/writing/style/)"
   ]
  }
 ],
 "metadata": {
  "_draft": {
   "nbviewer_url": "https://gist.github.com/b6070e2aeaed3915b1b08fe28174b15c"
  },
  "gist": {
   "data": {
    "description": "Python Notebook | Beginner.ipynb",
    "public": true
   },
   "id": "b6070e2aeaed3915b1b08fe28174b15c"
  },
  "kernelspec": {
   "display_name": "Python 3",
   "language": "python",
   "name": "python3"
  },
  "language_info": {
   "codemirror_mode": {
    "name": "ipython",
    "version": 3
   },
   "file_extension": ".py",
   "mimetype": "text/x-python",
   "name": "python",
   "nbconvert_exporter": "python",
   "pygments_lexer": "ipython3",
   "version": "3.6.8"
  }
 },
 "nbformat": 4,
 "nbformat_minor": 2
}